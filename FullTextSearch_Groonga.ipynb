{
  "cells": [
    {
      "cell_type": "markdown",
      "metadata": {
        "id": "1K0_sJIHCjL6"
      },
      "source": [
        "# Colabで全文検索（その3：Groonga編）\n",
        "\n",
        "各種全文検索ツールをColabで動かしてみるシリーズです。全7回の予定です。今回はGroongaです。\n",
        "\n",
        "処理時間の計測はストレージのキャッシュとの兼ね合いがあるので、2回測ります。2回目は全てがメモリに載った状態での性能評価になります。ただ1回目もデータを投入した直後なので、メモリに載ってしまっている可能性があります。"
      ]
    },
    {
      "cell_type": "markdown",
      "metadata": {
        "id": "rr8_1pqmMHal"
      },
      "source": [
        "## 準備\n",
        "\n",
        "まずは検索対象のテキストを日本語wikiから取得して、Google Driveに保存します。（※ Google Driveに約１GBの空き容量が必要です。以前のデータが残っている場合は取得せず再利用します。）"
      ]
    },
    {
      "cell_type": "markdown",
      "metadata": {
        "id": "SfwapuEEMHal"
      },
      "source": [
        "Google Driveのマウント"
      ]
    },
    {
      "cell_type": "code",
      "execution_count": 1,
      "metadata": {
        "colab": {
          "base_uri": "https://localhost:8080/"
        },
        "id": "uB4D_a2JMHal",
        "outputId": "6d66e9d7-9cf0-4b37-f148-c35f9fcd7332"
      },
      "outputs": [
        {
          "name": "stdout",
          "output_type": "stream",
          "text": [
            "Mounted at /content/drive\n"
          ]
        }
      ],
      "source": [
        "from google.colab import drive\n",
        "drive.mount('/content/drive')"
      ]
    },
    {
      "cell_type": "markdown",
      "metadata": {
        "id": "noPtYp0ZMHam"
      },
      "source": [
        "jawikiの取得とjson形式に変換。90分ほど時間がかかります。他の全文検索シリーズでも同じデータを使うので、他の記事も試す場合は wiki.json.bz2 を捨てずに残しておくことをおすすめします。"
      ]
    },
    {
      "cell_type": "code",
      "execution_count": null,
      "metadata": {
        "id": "5AbKu4okMHam"
      },
      "outputs": [],
      "source": [
        "%%time\n",
        "%cd /content/\n",
        "import os\n",
        "if not os.path.exists('/content/drive/MyDrive/wiki.json.bz2'):\n",
        "    !wget https://dumps.wikimedia.org/jawiki/latest/jawiki-latest-pages-articles.xml.bz2\n",
        "    !pip install wikiextractor\n",
        "    !python -m wikiextractor.WikiExtractor --no-templates --processes 4 --json -b 10G -o - jawiki-latest-pages-articles.xml.bz2 | bzip2 -c > /content/drive/MyDrive/wiki.json.bz2"
      ]
    },
    {
      "cell_type": "markdown",
      "metadata": {
        "id": "n2mhXmY6MHam"
      },
      "source": [
        "json形式に変換されたデータを確認"
      ]
    },
    {
      "cell_type": "code",
      "execution_count": null,
      "metadata": {
        "colab": {
          "base_uri": "https://localhost:8080/"
        },
        "id": "do5SBCPJMHam",
        "outputId": "8098e773-dcbb-458e-91eb-186b5e256832"
      },
      "outputs": [
        {
          "name": "stdout",
          "output_type": "stream",
          "text": [
            "アンパサンド\tアンパサンド（&amp;, ）は、並立助詞「…と…」を意味する記号である。ラテン\n",
            "言語\t言語（げんご）は、広辞苑や大辞泉には次のように解説されている。『日本大百科事典』\n",
            "日本語\t 日本語（にほんご、にっぽんご）は、日本国内や、かつての日本領だった国、そして日\n",
            "地理学\t地理学（ちりがく、、、伊：geografia、）は、。地域や空間、場所、自然環境\n",
            "EU (曖昧さ回避)\tEU\n",
            "国の一覧\t国の一覧（くにのいちらん）は、世界の独立国の一覧。対象.国際法上国家と言えるか否\n"
          ]
        }
      ],
      "source": [
        "import json\n",
        "import bz2\n",
        "\n",
        "with bz2.open('/content/drive/MyDrive/wiki.json.bz2', 'rt', encoding='utf-8') as fin:\n",
        "    for n, line in enumerate(fin):\n",
        "        data = json.loads(line)\n",
        "        print(data['title'].strip(), data['text'].replace('\\n', '')[:40], sep='\\t')\n",
        "        if n == 5:\n",
        "            break"
      ]
    },
    {
      "cell_type": "markdown",
      "metadata": {
        "id": "ipQEE1IElOHp"
      },
      "source": [
        "## Groongaのインストール"
      ]
    },
    {
      "cell_type": "code",
      "execution_count": 2,
      "metadata": {
        "colab": {
          "base_uri": "https://localhost:8080/"
        },
        "id": "Oh0pwrJv2cSQ",
        "outputId": "d42647cb-1cf4-431c-e144-941b17363ce2"
      },
      "outputs": [
        {
          "name": "stdout",
          "output_type": "stream",
          "text": [
            "Reading package lists... Done\n",
            "Building dependency tree       \n",
            "Reading state information... Done\n",
            "software-properties-common is already the newest version (0.96.24.32.18).\n",
            "The following package was automatically installed and is no longer required:\n",
            "  libnvidia-common-470\n",
            "Use 'sudo apt autoremove' to remove it.\n",
            "0 upgraded, 0 newly installed, 0 to remove and 39 not upgraded.\n",
            "'universe' distribution component is already enabled for all sources.\n",
            "Get:1 https://cloud.r-project.org/bin/linux/ubuntu bionic-cran40/ InRelease [3,626 B]\n",
            "Ign:2 https://developer.download.nvidia.com/compute/cuda/repos/ubuntu1804/x86_64  InRelease\n",
            "Get:3 http://security.ubuntu.com/ubuntu bionic-security InRelease [88.7 kB]\n",
            "Get:4 http://ppa.launchpad.net/c2d4u.team/c2d4u4.0+/ubuntu bionic InRelease [15.9 kB]\n",
            "Hit:5 http://archive.ubuntu.com/ubuntu bionic InRelease\n",
            "Ign:6 https://developer.download.nvidia.com/compute/machine-learning/repos/ubuntu1804/x86_64  InRelease\n",
            "Get:7 https://developer.download.nvidia.com/compute/cuda/repos/ubuntu1804/x86_64  Release [696 B]\n",
            "Hit:8 https://developer.download.nvidia.com/compute/machine-learning/repos/ubuntu1804/x86_64  Release\n",
            "Get:9 https://developer.download.nvidia.com/compute/cuda/repos/ubuntu1804/x86_64  Release.gpg [836 B]\n",
            "Get:10 http://archive.ubuntu.com/ubuntu bionic-updates InRelease [88.7 kB]\n",
            "Get:11 https://cloud.r-project.org/bin/linux/ubuntu bionic-cran40/ Packages [76.8 kB]\n",
            "Hit:12 http://ppa.launchpad.net/cran/libgit2/ubuntu bionic InRelease\n",
            "Get:14 http://archive.ubuntu.com/ubuntu bionic-backports InRelease [74.6 kB]\n",
            "Get:15 https://developer.download.nvidia.com/compute/cuda/repos/ubuntu1804/x86_64  Packages [931 kB]\n",
            "Hit:16 http://ppa.launchpad.net/deadsnakes/ppa/ubuntu bionic InRelease\n",
            "Get:17 http://ppa.launchpad.net/graphics-drivers/ppa/ubuntu bionic InRelease [21.3 kB]\n",
            "Get:18 http://security.ubuntu.com/ubuntu bionic-security/main amd64 Packages [2,596 kB]\n",
            "Get:19 http://ppa.launchpad.net/groonga/ppa/ubuntu bionic InRelease [21.3 kB]\n",
            "Get:20 http://archive.ubuntu.com/ubuntu bionic-updates/restricted amd64 Packages [840 kB]\n",
            "Get:21 http://ppa.launchpad.net/c2d4u.team/c2d4u4.0+/ubuntu bionic/main Sources [1,827 kB]\n",
            "Get:22 http://archive.ubuntu.com/ubuntu bionic-updates/main amd64 Packages [3,036 kB]\n",
            "Get:23 http://security.ubuntu.com/ubuntu bionic-security/restricted amd64 Packages [806 kB]\n",
            "Get:24 http://security.ubuntu.com/ubuntu bionic-security/universe amd64 Packages [1,474 kB]\n",
            "Get:25 http://archive.ubuntu.com/ubuntu bionic-updates/universe amd64 Packages [2,252 kB]\n",
            "Get:26 http://ppa.launchpad.net/c2d4u.team/c2d4u4.0+/ubuntu bionic/main amd64 Packages [936 kB]\n",
            "Get:27 http://ppa.launchpad.net/graphics-drivers/ppa/ubuntu bionic/main amd64 Packages [42.8 kB]\n",
            "Get:28 http://ppa.launchpad.net/groonga/ppa/ubuntu bionic/main amd64 Packages [5,774 B]\n",
            "Fetched 15.1 MB in 4s (4,271 kB/s)\n",
            "Reading package lists... Done\n",
            "Hit:1 http://security.ubuntu.com/ubuntu bionic-security InRelease\n",
            "Hit:2 https://cloud.r-project.org/bin/linux/ubuntu bionic-cran40/ InRelease\n",
            "Ign:3 https://developer.download.nvidia.com/compute/cuda/repos/ubuntu1804/x86_64  InRelease\n",
            "Hit:4 http://ppa.launchpad.net/c2d4u.team/c2d4u4.0+/ubuntu bionic InRelease\n",
            "Hit:5 http://archive.ubuntu.com/ubuntu bionic InRelease\n",
            "Ign:6 https://developer.download.nvidia.com/compute/machine-learning/repos/ubuntu1804/x86_64  InRelease\n",
            "Hit:7 https://developer.download.nvidia.com/compute/cuda/repos/ubuntu1804/x86_64  Release\n",
            "Hit:8 http://archive.ubuntu.com/ubuntu bionic-updates InRelease\n",
            "Hit:9 https://developer.download.nvidia.com/compute/machine-learning/repos/ubuntu1804/x86_64  Release\n",
            "Hit:10 http://archive.ubuntu.com/ubuntu bionic-backports InRelease\n",
            "Hit:11 http://ppa.launchpad.net/cran/libgit2/ubuntu bionic InRelease\n",
            "Hit:12 http://ppa.launchpad.net/deadsnakes/ppa/ubuntu bionic InRelease\n",
            "Hit:14 http://ppa.launchpad.net/graphics-drivers/ppa/ubuntu bionic InRelease\n",
            "Hit:16 http://ppa.launchpad.net/groonga/ppa/ubuntu bionic InRelease\n",
            "Reading package lists... Done\n",
            "E: Invalid operation jq\n",
            "Reading package lists... Done\n",
            "Building dependency tree       \n",
            "Reading state information... Done\n",
            "The following package was automatically installed and is no longer required:\n",
            "  libnvidia-common-470\n",
            "Use 'sudo apt autoremove' to remove it.\n",
            "The following additional packages will be installed:\n",
            "  groonga-bin groonga-doc groonga-plugin-suggest javascript-common libgroonga0\n",
            "  libjs-jquery libjs-underscore libmsgpackc2\n",
            "Suggested packages:\n",
            "  apache2 | lighttpd | httpd\n",
            "The following NEW packages will be installed:\n",
            "  groonga groonga-bin groonga-doc groonga-plugin-suggest javascript-common\n",
            "  libgroonga0 libjs-jquery libjs-underscore libmsgpackc2\n",
            "0 upgraded, 9 newly installed, 0 to remove and 78 not upgraded.\n",
            "Need to get 6,708 kB of archives.\n",
            "After this operation, 69.0 MB of additional disk space will be used.\n",
            "Get:1 http://archive.ubuntu.com/ubuntu bionic/universe amd64 libmsgpackc2 amd64 2.1.5-1 [14.3 kB]\n",
            "Get:2 http://ppa.launchpad.net/groonga/ppa/ubuntu bionic/main amd64 libgroonga0 amd64 12.0.1-1.ubuntu18.04.1 [1,822 kB]\n",
            "Get:3 http://archive.ubuntu.com/ubuntu bionic-updates/main amd64 libjs-underscore all 1.8.3~dfsg-1ubuntu0.1 [60.4 kB]\n",
            "Get:4 http://archive.ubuntu.com/ubuntu bionic/main amd64 libjs-jquery all 3.2.1-1 [152 kB]\n",
            "Get:5 http://archive.ubuntu.com/ubuntu bionic/main amd64 javascript-common all 11 [6,066 B]\n",
            "Get:6 http://ppa.launchpad.net/groonga/ppa/ubuntu bionic/main amd64 groonga-bin amd64 12.0.1-1.ubuntu18.04.1 [424 kB]\n",
            "Get:7 http://ppa.launchpad.net/groonga/ppa/ubuntu bionic/main amd64 groonga-plugin-suggest amd64 12.0.1-1.ubuntu18.04.1 [70.6 kB]\n",
            "Get:8 http://ppa.launchpad.net/groonga/ppa/ubuntu bionic/main amd64 groonga-doc all 12.0.1-1.ubuntu18.04.1 [4,151 kB]\n",
            "Get:9 http://ppa.launchpad.net/groonga/ppa/ubuntu bionic/main amd64 groonga amd64 12.0.1-1.ubuntu18.04.1 [8,564 B]\n",
            "Fetched 6,708 kB in 3s (2,094 kB/s)\n",
            "debconf: unable to initialize frontend: Dialog\n",
            "debconf: (No usable dialog-like program is installed, so the dialog based frontend cannot be used. at /usr/share/perl5/Debconf/FrontEnd/Dialog.pm line 76, <> line 9.)\n",
            "debconf: falling back to frontend: Readline\n",
            "debconf: unable to initialize frontend: Readline\n",
            "debconf: (This frontend requires a controlling tty.)\n",
            "debconf: falling back to frontend: Teletype\n",
            "dpkg-preconfigure: unable to re-open stdin: \n",
            "Selecting previously unselected package libmsgpackc2:amd64.\n",
            "(Reading database ... 155320 files and directories currently installed.)\n",
            "Preparing to unpack .../0-libmsgpackc2_2.1.5-1_amd64.deb ...\n",
            "Unpacking libmsgpackc2:amd64 (2.1.5-1) ...\n",
            "Selecting previously unselected package libgroonga0:amd64.\n",
            "Preparing to unpack .../1-libgroonga0_12.0.1-1.ubuntu18.04.1_amd64.deb ...\n",
            "Unpacking libgroonga0:amd64 (12.0.1-1.ubuntu18.04.1) ...\n",
            "Selecting previously unselected package groonga-bin.\n",
            "Preparing to unpack .../2-groonga-bin_12.0.1-1.ubuntu18.04.1_amd64.deb ...\n",
            "Unpacking groonga-bin (12.0.1-1.ubuntu18.04.1) ...\n",
            "Selecting previously unselected package groonga-plugin-suggest.\n",
            "Preparing to unpack .../3-groonga-plugin-suggest_12.0.1-1.ubuntu18.04.1_amd64.deb ...\n",
            "Unpacking groonga-plugin-suggest (12.0.1-1.ubuntu18.04.1) ...\n",
            "Selecting previously unselected package libjs-underscore.\n",
            "Preparing to unpack .../4-libjs-underscore_1.8.3~dfsg-1ubuntu0.1_all.deb ...\n",
            "Unpacking libjs-underscore (1.8.3~dfsg-1ubuntu0.1) ...\n",
            "Selecting previously unselected package libjs-jquery.\n",
            "Preparing to unpack .../5-libjs-jquery_3.2.1-1_all.deb ...\n",
            "Unpacking libjs-jquery (3.2.1-1) ...\n",
            "Selecting previously unselected package groonga-doc.\n",
            "Preparing to unpack .../6-groonga-doc_12.0.1-1.ubuntu18.04.1_all.deb ...\n",
            "Unpacking groonga-doc (12.0.1-1.ubuntu18.04.1) ...\n",
            "Selecting previously unselected package groonga.\n",
            "Preparing to unpack .../7-groonga_12.0.1-1.ubuntu18.04.1_amd64.deb ...\n",
            "Unpacking groonga (12.0.1-1.ubuntu18.04.1) ...\n",
            "Selecting previously unselected package javascript-common.\n",
            "Preparing to unpack .../8-javascript-common_11_all.deb ...\n",
            "Unpacking javascript-common (11) ...\n",
            "Setting up libjs-jquery (3.2.1-1) ...\n",
            "Setting up libjs-underscore (1.8.3~dfsg-1ubuntu0.1) ...\n",
            "Setting up groonga-doc (12.0.1-1.ubuntu18.04.1) ...\n",
            "Setting up javascript-common (11) ...\n",
            "Setting up libmsgpackc2:amd64 (2.1.5-1) ...\n",
            "Setting up libgroonga0:amd64 (12.0.1-1.ubuntu18.04.1) ...\n",
            "Setting up groonga-bin (12.0.1-1.ubuntu18.04.1) ...\n",
            "Setting up groonga-plugin-suggest (12.0.1-1.ubuntu18.04.1) ...\n",
            "Setting up groonga (12.0.1-1.ubuntu18.04.1) ...\n",
            "Processing triggers for libc-bin (2.27-3ubuntu1.3) ...\n",
            "/sbin/ldconfig.real: /usr/local/lib/python3.7/dist-packages/ideep4py/lib/libmkldnn.so.0 is not a symbolic link\n",
            "\n",
            "Groonga 12.0.1 [linux-gnu,x86_64,utf8,match-escalation-threshold=0,nfkc,mecab,message-pack,mruby,onigmo,zlib,lz4,zstandard,epoll,rapidjson]\n",
            "\n",
            "configure options: < '--build=x86_64-linux-gnu' '--prefix=/usr' '--includedir=${prefix}/include' '--mandir=${prefix}/share/man' '--infodir=${prefix}/share/info' '--sysconfdir=/etc' '--localstatedir=/var' '--disable-silent-rules' '--libdir=${prefix}/lib/x86_64-linux-gnu' '--libexecdir=${prefix}/lib/x86_64-linux-gnu' '--disable-maintainer-mode' '--disable-dependency-tracking' '--with-munin-plugins' '--enable-mruby' 'build_alias=x86_64-linux-gnu' 'CFLAGS=-g -O2 -fdebug-prefix-map=/build/groonga-Djqvje/groonga-12.0.1=. -fstack-protector-strong -Wformat -Werror=format-security' 'LDFLAGS=-Wl,-Bsymbolic-functions -Wl,-z,relro -Wl,-z,now' 'CPPFLAGS=-Wdate-time -D_FORTIFY_SOURCE=2' 'CXXFLAGS=-g -O2 -fdebug-prefix-map=/build/groonga-Djqvje/groonga-12.0.1=. -fstack-protector-strong -Wformat -Werror=format-security'>\n"
          ]
        }
      ],
      "source": [
        "!sudo apt-get -y install software-properties-common\n",
        "!sudo add-apt-repository -y universe\n",
        "!sudo add-apt-repository -y ppa:groonga/ppa\n",
        "!sudo apt-get update\n",
        "!sudo apt-get jq\n",
        "!sudo apt-get -y install groonga\n",
        "!groonga --version"
      ]
    },
    {
      "cell_type": "markdown",
      "metadata": {
        "id": "6TNaSLUIs-fq"
      },
      "source": [
        "## DB作成"
      ]
    },
    {
      "cell_type": "markdown",
      "metadata": {
        "id": "WB1Im02_tNq1"
      },
      "source": [
        "場所を指定してDBを作成します。"
      ]
    },
    {
      "cell_type": "code",
      "execution_count": 3,
      "metadata": {
        "id": "7vLiwj9zAV3j"
      },
      "outputs": [],
      "source": [
        "!echo \"\" | groonga -n /tmp/db"
      ]
    },
    {
      "cell_type": "markdown",
      "metadata": {
        "id": "Ccuea_NrtVbD"
      },
      "source": [
        "作成されたことを確認します。"
      ]
    },
    {
      "cell_type": "code",
      "execution_count": 4,
      "metadata": {
        "colab": {
          "base_uri": "https://localhost:8080/"
        },
        "id": "awQFXdIPA55-",
        "outputId": "853cb7ae-daa3-404d-d986-12cec4ff9460"
      },
      "outputs": [
        {
          "name": "stdout",
          "output_type": "stream",
          "text": [
            "[[0,1646667764.569797,6.771087646484375e-05],{\"alloc_count\":12132,\"starttime\":1646667764,\"start_time\":1646667764,\"uptime\":0,\"version\":\"12.0.1\",\"n_queries\":0,\"cache_hit_rate\":0.0,\"command_version\":1,\"default_command_version\":1,\"max_command_version\":3,\"n_jobs\":0,\"features\":{\"nfkc\":true,\"mecab\":true,\"message_pack\":true,\"mruby\":true,\"onigmo\":true,\"zlib\":true,\"lz4\":true,\"zstandard\":true,\"kqueue\":false,\"epoll\":true,\"poll\":false,\"rapidjson\":true,\"apache_arrow\":false,\"xxhash\":false}}]\n"
          ]
        }
      ],
      "source": [
        "!groonga /tmp/db status"
      ]
    },
    {
      "cell_type": "markdown",
      "metadata": {
        "id": "rUBuR3MTtc5V"
      },
      "source": [
        "DBにテーブルとカラムを作成します。"
      ]
    },
    {
      "cell_type": "code",
      "execution_count": 5,
      "metadata": {
        "colab": {
          "base_uri": "https://localhost:8080/"
        },
        "id": "SxG1wFnNr0gL",
        "outputId": "e7155599-f320-4d2a-9422-90d06e1dbf04"
      },
      "outputs": [
        {
          "name": "stdout",
          "output_type": "stream",
          "text": [
            "[[0,1646667764.700085,0.006307125091552734],true]\n",
            "[[0,1646667764.820107,0.01014184951782227],true]\n"
          ]
        }
      ],
      "source": [
        "!groonga /tmp/db table_create --name wiki_jp --flags TABLE_HASH_KEY --key_type ShortText\n",
        "!groonga /tmp/db column_create --table wiki_jp --name body --type Text"
      ]
    },
    {
      "cell_type": "markdown",
      "metadata": {
        "id": "O3guGmQ4t64W"
      },
      "source": [
        "作成されたテーブルを確認します。"
      ]
    },
    {
      "cell_type": "code",
      "execution_count": 6,
      "metadata": {
        "colab": {
          "base_uri": "https://localhost:8080/"
        },
        "id": "PsmrA-2MsSJV",
        "outputId": "2249b77d-dcc6-4f0f-c25b-e9bfc1b1c51e"
      },
      "outputs": [
        {
          "name": "stdout",
          "output_type": "stream",
          "text": [
            "[[0,1646667764.935338,0.0009636878967285156],[[[0],[[\"_id\",\"UInt32\"],[\"_key\",\"ShortText\"],[\"body\",\"Text\"]]]]]\n"
          ]
        }
      ],
      "source": [
        "!groonga /tmp/db select --table wiki_jp"
      ]
    },
    {
      "cell_type": "markdown",
      "metadata": {
        "id": "eBf8jSeutIkE"
      },
      "source": [
        "## データのインポート"
      ]
    },
    {
      "cell_type": "markdown",
      "metadata": {
        "id": "0f0-6WCBvyVZ"
      },
      "source": [
        "データを解凍して50万件分を書き出します。"
      ]
    },
    {
      "cell_type": "code",
      "execution_count": 7,
      "metadata": {
        "colab": {
          "base_uri": "https://localhost:8080/",
          "height": 49,
          "referenced_widgets": [
            "4ec5aa1e291b4e219d9907d924936726",
            "1211008458fd4183a85cf2d61228de71",
            "a70299b8b7314a34bf286e08db0a8a2c",
            "ae3f6134696e4b0599c43b031ac0ea0f",
            "7db508c506a340dd9367e5f617a2baae",
            "86e26e2ebc934c1cb66e1c60190a3b3a",
            "f0c105c4d0014a9d89a6b9499ab8fd6c",
            "917fbc94f9664a6f9da7e55e6ca18bd7",
            "0706a4c2c2d7445189683282fd4c35bc",
            "1c39264d4e614118bbf036ca646c6c05",
            "7494c8ac87d34c80be6a0f58ecfcd45d"
          ]
        },
        "id": "nZZ390tXsqiv",
        "outputId": "b745710d-f1ff-4dff-9968-691ce5a0a135"
      },
      "outputs": [
        {
          "data": {
            "application/vnd.jupyter.widget-view+json": {
              "model_id": "4ec5aa1e291b4e219d9907d924936726",
              "version_major": 2,
              "version_minor": 0
            },
            "text/plain": [
              "  0%|          | 0/750000.0 [00:00<?, ?it/s]"
            ]
          },
          "metadata": {},
          "output_type": "display_data"
        }
      ],
      "source": [
        "import json\n",
        "import bz2\n",
        "from tqdm.notebook import tqdm\n",
        "\n",
        "limit = 500000\n",
        "with open('/content/load.txt', 'w') as fout:\n",
        "    print('load --table wiki_jp\\n[', file=fout)\n",
        "    with bz2.open('/content/drive/MyDrive/wiki.json.bz2', 'rt', encoding='utf-8') as fin:\n",
        "        n = 0\n",
        "        for line in tqdm(fin, total=limit*1.5):\n",
        "            data = json.loads(line)\n",
        "            title = data['title'].strip()\n",
        "            body = data['text'].replace('\\n', '')\n",
        "            if len(title) > 0 and len(body) > 0:\n",
        "                print(json.dumps({\"_key\":title, \"body\":body}, ensure_ascii=False), ',', file=fout)\n",
        "                n += 1\n",
        "            if n == limit:\n",
        "                break\n",
        "    print(']', file=fout)"
      ]
    },
    {
      "cell_type": "markdown",
      "metadata": {
        "id": "hcaVbyD1wJ3e"
      },
      "source": [
        "書き出したデータを読み込ませます。"
      ]
    },
    {
      "cell_type": "code",
      "execution_count": 8,
      "metadata": {
        "colab": {
          "base_uri": "https://localhost:8080/"
        },
        "id": "wTK8kExdwXYs",
        "outputId": "1c9460db-4fec-4906-fd3f-90bc7b4c3178"
      },
      "outputs": [
        {
          "name": "stdout",
          "output_type": "stream",
          "text": [
            "[[0,1646668165.571066,23.59745812416077],500000]\n",
            "CPU times: user 195 ms, sys: 33.2 ms, total: 228 ms\n",
            "Wall time: 23.8 s\n"
          ]
        }
      ],
      "source": [
        "%%time\n",
        "!groonga /tmp/db < /content/load.txt"
      ]
    },
    {
      "cell_type": "markdown",
      "metadata": {
        "id": "7W7VtaKwvkPH"
      },
      "source": [
        "登録件数を確認します。"
      ]
    },
    {
      "cell_type": "code",
      "execution_count": 9,
      "metadata": {
        "colab": {
          "base_uri": "https://localhost:8080/"
        },
        "id": "tyN2_pcd1HkP",
        "outputId": "e0830b68-ec2b-4489-fe0c-c4a0a9af590e"
      },
      "outputs": [
        {
          "name": "stdout",
          "output_type": "stream",
          "text": [
            "[[0,1646668189.474985,0.001855611801147461],[[[500000],[[\"_id\",\"UInt32\"],[\"_key\",\"ShortText\"],[\"body\",\"Text\"]]]]]\n"
          ]
        }
      ],
      "source": [
        "!groonga /tmp/db select wiki_jp --limit 0 "
      ]
    },
    {
      "cell_type": "markdown",
      "metadata": {
        "id": "de0uGzC84Ivo"
      },
      "source": [
        "## インデックスを使わない検索"
      ]
    },
    {
      "cell_type": "markdown",
      "metadata": {
        "id": "oJuS33Pc4a__"
      },
      "source": [
        "bodyに「日本語」を含むレコードの数を取得します。"
      ]
    },
    {
      "cell_type": "code",
      "execution_count": null,
      "metadata": {
        "colab": {
          "base_uri": "https://localhost:8080/"
        },
        "id": "xusBAaHI30bN",
        "outputId": "b7bef5ef-f484-43ff-e03d-ca848f5a0b22"
      },
      "outputs": [
        {
          "name": "stdout",
          "output_type": "stream",
          "text": [
            "[[0,1646379721.581422,27.47038435935974],[[[17006],[[\"_id\",\"UInt32\"],[\"_key\",\"ShortText\"],[\"body\",\"Text\"]]]]]\n",
            "CPU times: user 215 ms, sys: 28.8 ms, total: 244 ms\n",
            "Wall time: 27.7 s\n"
          ]
        }
      ],
      "source": [
        "%%time\n",
        "!groonga /tmp/db select wiki_jp --query body:@日本語 --limit 0"
      ]
    },
    {
      "cell_type": "markdown",
      "metadata": {
        "id": "EckHeglk4l1y"
      },
      "source": [
        "bodyに「日本語」を含むレコードを取得します。"
      ]
    },
    {
      "cell_type": "code",
      "execution_count": null,
      "metadata": {
        "colab": {
          "base_uri": "https://localhost:8080/"
        },
        "id": "6bLjWeQt30XL",
        "outputId": "0c4745c9-a140-406a-c0a4-b153012e2f13"
      },
      "outputs": [
        {
          "name": "stdout",
          "output_type": "stream",
          "text": [
            "CPU times: user 238 ms, sys: 30.3 ms, total: 268 ms\n",
            "Wall time: 29.8 s\n"
          ]
        }
      ],
      "source": [
        "%%time\n",
        "!groonga /tmp/db select wiki_jp --query body:@日本語 --limit 100000 > /dev/null"
      ]
    },
    {
      "cell_type": "markdown",
      "metadata": {
        "id": "_GwvTayT4sgF"
      },
      "source": [
        "2回目"
      ]
    },
    {
      "cell_type": "code",
      "execution_count": null,
      "metadata": {
        "colab": {
          "base_uri": "https://localhost:8080/"
        },
        "id": "wOL2Lkla30Sa",
        "outputId": "3066867d-c496-4ffd-afee-18b3adb8b929"
      },
      "outputs": [
        {
          "name": "stdout",
          "output_type": "stream",
          "text": [
            "CPU times: user 242 ms, sys: 27.5 ms, total: 270 ms\n",
            "Wall time: 29.1 s\n"
          ]
        }
      ],
      "source": [
        "%%time\n",
        "!groonga /tmp/db select wiki_jp --query body:@日本語 --limit 100000 > /dev/null"
      ]
    },
    {
      "cell_type": "markdown",
      "metadata": {
        "id": "Es_3lYw14uZL"
      },
      "source": [
        "インデックスを使わない検索では、ヒットする件数を算出するにもbodyを読み込んでその中に「日本語」が含まれるか確認する必要があるので、レコードの数を取得するのとレコードを取得するので、処理時間の差があまりありません。\n",
        "\n",
        "インデックスを使わない場合、MySQLで14秒、PostgreSQLで15秒ですから、Groongaは相当遅いです。"
      ]
    },
    {
      "cell_type": "markdown",
      "metadata": {
        "id": "Bv_r3RRqw9fW"
      },
      "source": [
        "## インデックスを使った検索"
      ]
    },
    {
      "cell_type": "markdown",
      "metadata": {
        "id": "csCTFm_kwZ3M"
      },
      "source": [
        "インデックスを作成します。"
      ]
    },
    {
      "cell_type": "code",
      "execution_count": 10,
      "metadata": {
        "colab": {
          "base_uri": "https://localhost:8080/"
        },
        "id": "sOj4VgJq3Uet",
        "outputId": "db04a491-4658-40d9-dd47-e4d366723f99"
      },
      "outputs": [
        {
          "name": "stdout",
          "output_type": "stream",
          "text": [
            "[[0,1646668189.671915,0.00914764404296875],true]\n"
          ]
        }
      ],
      "source": [
        "!groonga /tmp/db table_create --name Terms --flags TABLE_PAT_KEY --key_type ShortText --default_tokenizer TokenBigram --normalizer NormalizerAuto"
      ]
    },
    {
      "cell_type": "code",
      "execution_count": 11,
      "metadata": {
        "colab": {
          "base_uri": "https://localhost:8080/"
        },
        "id": "r720cPN34HEg",
        "outputId": "9fad0773-61ff-4479-91e9-5efa4206fa50"
      },
      "outputs": [
        {
          "name": "stdout",
          "output_type": "stream",
          "text": [
            "[[0,1646668189.800892,413.5416598320007],true]\n",
            "CPU times: user 3.18 s, sys: 432 ms, total: 3.61 s\n",
            "Wall time: 6min 53s\n"
          ]
        }
      ],
      "source": [
        "%%time\n",
        "!groonga /tmp/db column_create --table Terms --name wiki_body --flags \"COLUMN_INDEX|WITH_POSITION\" --type wiki_jp --source body"
      ]
    },
    {
      "cell_type": "markdown",
      "metadata": {
        "id": "FEuRbOcNxIcC"
      },
      "source": [
        "bodyに「日本語」を含むレコードの数を取得します。"
      ]
    },
    {
      "cell_type": "code",
      "execution_count": null,
      "metadata": {
        "colab": {
          "base_uri": "https://localhost:8080/"
        },
        "id": "wsxwjmcNw3eZ",
        "outputId": "4064a617-a7fc-45b5-85f4-4af979a9d4a4"
      },
      "outputs": [
        {
          "name": "stdout",
          "output_type": "stream",
          "text": [
            "[[0,1646378101.153079,0.02551054954528809],[[[17006],[[\"_id\",\"UInt32\"],[\"_key\",\"ShortText\"],[\"body\",\"Text\"]]]]]\n",
            "CPU times: user 11.1 ms, sys: 9.08 ms, total: 20.2 ms\n",
            "Wall time: 324 ms\n"
          ]
        }
      ],
      "source": [
        "%%time\n",
        "!groonga /tmp/db select wiki_jp --query body:@日本語 --limit 0"
      ]
    },
    {
      "cell_type": "markdown",
      "metadata": {
        "id": "Fk2uOdke6lo1"
      },
      "source": [
        "レコードのbodyにアクセスする必要がなく、インデックスのみを参照しているため、非常に速いです。"
      ]
    },
    {
      "cell_type": "markdown",
      "metadata": {
        "id": "dLpYC-6_xQK2"
      },
      "source": [
        "bodyに「日本語」を含むレコードを取得します。"
      ]
    },
    {
      "cell_type": "code",
      "execution_count": null,
      "metadata": {
        "colab": {
          "base_uri": "https://localhost:8080/"
        },
        "id": "jjF75FjN5ixt",
        "outputId": "d26e5e4e-8f7f-4223-f302-2bfde2a9713c"
      },
      "outputs": [
        {
          "name": "stdout",
          "output_type": "stream",
          "text": [
            "CPU times: user 19.8 ms, sys: 10.2 ms, total: 30 ms\n",
            "Wall time: 1.72 s\n"
          ]
        }
      ],
      "source": [
        "%%time\n",
        "!groonga /tmp/db select wiki_jp --query body:@日本語 --limit 100000 > /dev/null"
      ]
    },
    {
      "cell_type": "markdown",
      "metadata": {
        "id": "dVRAtlNpxmor"
      },
      "source": [
        "2回目"
      ]
    },
    {
      "cell_type": "code",
      "execution_count": null,
      "metadata": {
        "colab": {
          "base_uri": "https://localhost:8080/"
        },
        "id": "xrBL8ulGK3y-",
        "outputId": "a26c32fb-09a2-497e-c6d9-bd543abbf595"
      },
      "outputs": [
        {
          "name": "stdout",
          "output_type": "stream",
          "text": [
            "CPU times: user 25.9 ms, sys: 5.27 ms, total: 31.2 ms\n",
            "Wall time: 1.73 s\n"
          ]
        }
      ],
      "source": [
        "%%time\n",
        "!groonga /tmp/db select wiki_jp --query body:@日本語 --limit 1000000 > /dev/null"
      ]
    },
    {
      "cell_type": "markdown",
      "metadata": {
        "id": "ZW8fenv-zIn4"
      },
      "source": [
        "データがメモリに乗った状態で、MySQLが8秒、PostgreSQLが9秒ですから、Groongaは相当速いです。全文検索特化の面目躍如です。"
      ]
    },
    {
      "cell_type": "markdown",
      "metadata": {
        "id": "fb80HSlqyWEW"
      },
      "source": [
        "参考までに、bodyに「日本語」を含むレコードのタイトルとスコアのみを取得します。"
      ]
    },
    {
      "cell_type": "code",
      "execution_count": null,
      "metadata": {
        "colab": {
          "base_uri": "https://localhost:8080/"
        },
        "id": "2Q8wxtzdQPDE",
        "outputId": "5b19e15f-e7b5-403a-f43d-e026d2b02b13"
      },
      "outputs": [
        {
          "name": "stdout",
          "output_type": "stream",
          "text": [
            "CPU times: user 7.02 ms, sys: 6.86 ms, total: 13.9 ms\n",
            "Wall time: 220 ms\n"
          ]
        }
      ],
      "source": [
        "%%time\n",
        "!groonga /tmp/db select wiki_jp --query body:@日本語 --limit 1000000 --output_columns _key,_score > /dev/null"
      ]
    },
    {
      "cell_type": "markdown",
      "metadata": {
        "id": "0zgoShJuykSZ"
      },
      "source": [
        "9割近くが文章の読み込みの時間であることが分かります。"
      ]
    },
    {
      "cell_type": "markdown",
      "metadata": {
        "id": "btThKaxp2JAu"
      },
      "source": [
        "## おまけ"
      ]
    },
    {
      "cell_type": "markdown",
      "metadata": {
        "id": "d3AhBGQg2OLi"
      },
      "source": [
        "以下のようにすると「日本語」と「表現」を含むレコードが検索されます。"
      ]
    },
    {
      "cell_type": "code",
      "execution_count": 15,
      "metadata": {
        "colab": {
          "base_uri": "https://localhost:8080/"
        },
        "id": "HiHgZZic1mXT",
        "outputId": "43d6093d-a1a5-482e-d2fb-c054b698469a"
      },
      "outputs": [
        {
          "name": "stdout",
          "output_type": "stream",
          "text": [
            "[[0,1646668653.196783,0.02809000015258789],[[[3267],[[\"body\",\"Text\"]]]]]\n",
            "[[0,1646668653.399063,0.02009105682373047],[[[3267],[[\"body\",\"Text\"]]]]]\n"
          ]
        }
      ],
      "source": [
        "!groonga /tmp/db select wiki_jp --match_columns body --query '\"日本語 表現\"' --output_columns body --limit 0\n",
        "!groonga /tmp/db select wiki_jp --match_columns body --query '\"表現 日本語\"' --output_columns body --limit 0"
      ]
    },
    {
      "cell_type": "markdown",
      "metadata": {
        "id": "p3Xfku_LAx1t"
      },
      "source": [
        "以下のようにすると、「日本語」と「表現」が並んで出現するレコードを検索します。"
      ]
    },
    {
      "cell_type": "code",
      "execution_count": 16,
      "metadata": {
        "colab": {
          "base_uri": "https://localhost:8080/"
        },
        "id": "o1lPL4zfQsy4",
        "outputId": "2607fe8a-17e5-4353-abba-f8f1b868e374"
      },
      "outputs": [
        {
          "name": "stdout",
          "output_type": "stream",
          "text": [
            "[[0,1646668660.337281,0.01356887817382812],[[[37],[[\"body\",\"Text\"]]]]]\n"
          ]
        }
      ],
      "source": [
        "!groonga /tmp/db select wiki_jp --match_columns body --query '\"\\\"日本語 表現\\\"\"' --output_columns body --limit 0"
      ]
    },
    {
      "cell_type": "markdown",
      "metadata": {
        "id": "U0TufqoqEwjO"
      },
      "source": [
        "従って順序を変えると異なる結果になります。"
      ]
    },
    {
      "cell_type": "code",
      "execution_count": 17,
      "metadata": {
        "colab": {
          "base_uri": "https://localhost:8080/"
        },
        "id": "jAVds10OE3T-",
        "outputId": "f7284888-22d2-4eac-f4c3-6ed00cb0af8e"
      },
      "outputs": [
        {
          "name": "stdout",
          "output_type": "stream",
          "text": [
            "[[0,1646668665.709357,0.0197443962097168],[[[0],[[\"body\",\"Text\"]]]]]\n"
          ]
        }
      ],
      "source": [
        "!groonga /tmp/db select wiki_jp --match_columns body --query '\"\\\"表現 日本語\\\"\"' --output_columns body --limit 0"
      ]
    },
    {
      "cell_type": "markdown",
      "metadata": {
        "id": "XqX6QUza2bO1"
      },
      "source": [
        "以下は「日本語表記」を検索した結果です。今回は同数ですが、「日本語 表現」では「日本語」と「表現」の間に空白があってもなくてもマッチしますが、下記では空白を挟むとマッチしません。"
      ]
    },
    {
      "cell_type": "code",
      "execution_count": 18,
      "metadata": {
        "colab": {
          "base_uri": "https://localhost:8080/"
        },
        "id": "41AawVgE2czv",
        "outputId": "0d27cd85-cad0-475b-e2a4-172371a431b6"
      },
      "outputs": [
        {
          "name": "stdout",
          "output_type": "stream",
          "text": [
            "[[0,1646668680.297208,0.01164722442626953],[[[37],[[\"body\",\"Text\"]]]]]\n"
          ]
        }
      ],
      "source": [
        "!groonga /tmp/db select wiki_jp --match_columns body --query '日本語表現' --output_columns body --limit 0"
      ]
    },
    {
      "cell_type": "markdown",
      "metadata": {
        "id": "2YXw8bQoCLfx"
      },
      "source": [
        "以下では「日本語」もしくは「表現」を含むレコードが検索されます。"
      ]
    },
    {
      "cell_type": "code",
      "execution_count": 19,
      "metadata": {
        "colab": {
          "base_uri": "https://localhost:8080/"
        },
        "id": "TmI5IEWh8P9A",
        "outputId": "2998ad3f-1db6-41cd-b3c5-338bc0f44465"
      },
      "outputs": [
        {
          "name": "stdout",
          "output_type": "stream",
          "text": [
            "[[0,1646668701.140637,0.02257537841796875],[[[34825],[[\"body\",\"Text\"]]]]]\n",
            "CPU times: user 10 ms, sys: 8.02 ms, total: 18.1 ms\n",
            "Wall time: 220 ms\n"
          ]
        }
      ],
      "source": [
        "%%time\n",
        "!groonga /tmp/db select wiki_jp --match_columns body --query '\"日本語 OR 表現\"' --output_columns body --limit 0"
      ]
    }
  ],
  "metadata": {
    "colab": {
      "collapsed_sections": [
        "ipQEE1IElOHp"
      ],
      "name": "全文検索_Groonga.ipynb",
      "provenance": []
    },
    "kernelspec": {
      "display_name": "Python 3",
      "name": "python3"
    },
    "language_info": {
      "name": "python"
    },
    "widgets": {
      "application/vnd.jupyter.widget-state+json": {
        "0706a4c2c2d7445189683282fd4c35bc": {
          "model_module": "@jupyter-widgets/base",
          "model_module_version": "1.2.0",
          "model_name": "LayoutModel",
          "state": {
            "_model_module": "@jupyter-widgets/base",
            "_model_module_version": "1.2.0",
            "_model_name": "LayoutModel",
            "_view_count": null,
            "_view_module": "@jupyter-widgets/base",
            "_view_module_version": "1.2.0",
            "_view_name": "LayoutView",
            "align_content": null,
            "align_items": null,
            "align_self": null,
            "border": null,
            "bottom": null,
            "display": null,
            "flex": null,
            "flex_flow": null,
            "grid_area": null,
            "grid_auto_columns": null,
            "grid_auto_flow": null,
            "grid_auto_rows": null,
            "grid_column": null,
            "grid_gap": null,
            "grid_row": null,
            "grid_template_areas": null,
            "grid_template_columns": null,
            "grid_template_rows": null,
            "height": null,
            "justify_content": null,
            "justify_items": null,
            "left": null,
            "margin": null,
            "max_height": null,
            "max_width": null,
            "min_height": null,
            "min_width": null,
            "object_fit": null,
            "object_position": null,
            "order": null,
            "overflow": null,
            "overflow_x": null,
            "overflow_y": null,
            "padding": null,
            "right": null,
            "top": null,
            "visibility": null,
            "width": null
          }
        },
        "1211008458fd4183a85cf2d61228de71": {
          "model_module": "@jupyter-widgets/base",
          "model_module_version": "1.2.0",
          "model_name": "LayoutModel",
          "state": {
            "_model_module": "@jupyter-widgets/base",
            "_model_module_version": "1.2.0",
            "_model_name": "LayoutModel",
            "_view_count": null,
            "_view_module": "@jupyter-widgets/base",
            "_view_module_version": "1.2.0",
            "_view_name": "LayoutView",
            "align_content": null,
            "align_items": null,
            "align_self": null,
            "border": null,
            "bottom": null,
            "display": null,
            "flex": null,
            "flex_flow": null,
            "grid_area": null,
            "grid_auto_columns": null,
            "grid_auto_flow": null,
            "grid_auto_rows": null,
            "grid_column": null,
            "grid_gap": null,
            "grid_row": null,
            "grid_template_areas": null,
            "grid_template_columns": null,
            "grid_template_rows": null,
            "height": null,
            "justify_content": null,
            "justify_items": null,
            "left": null,
            "margin": null,
            "max_height": null,
            "max_width": null,
            "min_height": null,
            "min_width": null,
            "object_fit": null,
            "object_position": null,
            "order": null,
            "overflow": null,
            "overflow_x": null,
            "overflow_y": null,
            "padding": null,
            "right": null,
            "top": null,
            "visibility": null,
            "width": null
          }
        },
        "1c39264d4e614118bbf036ca646c6c05": {
          "model_module": "@jupyter-widgets/controls",
          "model_module_version": "1.5.0",
          "model_name": "DescriptionStyleModel",
          "state": {
            "_model_module": "@jupyter-widgets/controls",
            "_model_module_version": "1.5.0",
            "_model_name": "DescriptionStyleModel",
            "_view_count": null,
            "_view_module": "@jupyter-widgets/base",
            "_view_module_version": "1.2.0",
            "_view_name": "StyleView",
            "description_width": ""
          }
        },
        "4ec5aa1e291b4e219d9907d924936726": {
          "model_module": "@jupyter-widgets/controls",
          "model_module_version": "1.5.0",
          "model_name": "HBoxModel",
          "state": {
            "_dom_classes": [],
            "_model_module": "@jupyter-widgets/controls",
            "_model_module_version": "1.5.0",
            "_model_name": "HBoxModel",
            "_view_count": null,
            "_view_module": "@jupyter-widgets/controls",
            "_view_module_version": "1.5.0",
            "_view_name": "HBoxView",
            "box_style": "",
            "children": [
              "IPY_MODEL_a70299b8b7314a34bf286e08db0a8a2c",
              "IPY_MODEL_ae3f6134696e4b0599c43b031ac0ea0f",
              "IPY_MODEL_7db508c506a340dd9367e5f617a2baae"
            ],
            "layout": "IPY_MODEL_1211008458fd4183a85cf2d61228de71"
          }
        },
        "7494c8ac87d34c80be6a0f58ecfcd45d": {
          "model_module": "@jupyter-widgets/base",
          "model_module_version": "1.2.0",
          "model_name": "LayoutModel",
          "state": {
            "_model_module": "@jupyter-widgets/base",
            "_model_module_version": "1.2.0",
            "_model_name": "LayoutModel",
            "_view_count": null,
            "_view_module": "@jupyter-widgets/base",
            "_view_module_version": "1.2.0",
            "_view_name": "LayoutView",
            "align_content": null,
            "align_items": null,
            "align_self": null,
            "border": null,
            "bottom": null,
            "display": null,
            "flex": null,
            "flex_flow": null,
            "grid_area": null,
            "grid_auto_columns": null,
            "grid_auto_flow": null,
            "grid_auto_rows": null,
            "grid_column": null,
            "grid_gap": null,
            "grid_row": null,
            "grid_template_areas": null,
            "grid_template_columns": null,
            "grid_template_rows": null,
            "height": null,
            "justify_content": null,
            "justify_items": null,
            "left": null,
            "margin": null,
            "max_height": null,
            "max_width": null,
            "min_height": null,
            "min_width": null,
            "object_fit": null,
            "object_position": null,
            "order": null,
            "overflow": null,
            "overflow_x": null,
            "overflow_y": null,
            "padding": null,
            "right": null,
            "top": null,
            "visibility": null,
            "width": null
          }
        },
        "7db508c506a340dd9367e5f617a2baae": {
          "model_module": "@jupyter-widgets/controls",
          "model_module_version": "1.5.0",
          "model_name": "HTMLModel",
          "state": {
            "_dom_classes": [],
            "_model_module": "@jupyter-widgets/controls",
            "_model_module_version": "1.5.0",
            "_model_name": "HTMLModel",
            "_view_count": null,
            "_view_module": "@jupyter-widgets/controls",
            "_view_module_version": "1.5.0",
            "_view_name": "HTMLView",
            "description": "",
            "description_tooltip": null,
            "layout": "IPY_MODEL_7494c8ac87d34c80be6a0f58ecfcd45d",
            "placeholder": "​",
            "style": "IPY_MODEL_1c39264d4e614118bbf036ca646c6c05",
            "value": " 779788/? [06:40&lt;00:00, 2718.54it/s]"
          }
        },
        "86e26e2ebc934c1cb66e1c60190a3b3a": {
          "model_module": "@jupyter-widgets/controls",
          "model_module_version": "1.5.0",
          "model_name": "DescriptionStyleModel",
          "state": {
            "_model_module": "@jupyter-widgets/controls",
            "_model_module_version": "1.5.0",
            "_model_name": "DescriptionStyleModel",
            "_view_count": null,
            "_view_module": "@jupyter-widgets/base",
            "_view_module_version": "1.2.0",
            "_view_name": "StyleView",
            "description_width": ""
          }
        },
        "917fbc94f9664a6f9da7e55e6ca18bd7": {
          "model_module": "@jupyter-widgets/controls",
          "model_module_version": "1.5.0",
          "model_name": "ProgressStyleModel",
          "state": {
            "_model_module": "@jupyter-widgets/controls",
            "_model_module_version": "1.5.0",
            "_model_name": "ProgressStyleModel",
            "_view_count": null,
            "_view_module": "@jupyter-widgets/base",
            "_view_module_version": "1.2.0",
            "_view_name": "StyleView",
            "bar_color": null,
            "description_width": ""
          }
        },
        "a70299b8b7314a34bf286e08db0a8a2c": {
          "model_module": "@jupyter-widgets/controls",
          "model_module_version": "1.5.0",
          "model_name": "HTMLModel",
          "state": {
            "_dom_classes": [],
            "_model_module": "@jupyter-widgets/controls",
            "_model_module_version": "1.5.0",
            "_model_name": "HTMLModel",
            "_view_count": null,
            "_view_module": "@jupyter-widgets/controls",
            "_view_module_version": "1.5.0",
            "_view_name": "HTMLView",
            "description": "",
            "description_tooltip": null,
            "layout": "IPY_MODEL_f0c105c4d0014a9d89a6b9499ab8fd6c",
            "placeholder": "​",
            "style": "IPY_MODEL_86e26e2ebc934c1cb66e1c60190a3b3a",
            "value": ""
          }
        },
        "ae3f6134696e4b0599c43b031ac0ea0f": {
          "model_module": "@jupyter-widgets/controls",
          "model_module_version": "1.5.0",
          "model_name": "FloatProgressModel",
          "state": {
            "_dom_classes": [],
            "_model_module": "@jupyter-widgets/controls",
            "_model_module_version": "1.5.0",
            "_model_name": "FloatProgressModel",
            "_view_count": null,
            "_view_module": "@jupyter-widgets/controls",
            "_view_module_version": "1.5.0",
            "_view_name": "ProgressView",
            "bar_style": "danger",
            "description": "",
            "description_tooltip": null,
            "layout": "IPY_MODEL_0706a4c2c2d7445189683282fd4c35bc",
            "max": 750000,
            "min": 0,
            "orientation": "horizontal",
            "style": "IPY_MODEL_917fbc94f9664a6f9da7e55e6ca18bd7",
            "value": 750000
          }
        },
        "f0c105c4d0014a9d89a6b9499ab8fd6c": {
          "model_module": "@jupyter-widgets/base",
          "model_module_version": "1.2.0",
          "model_name": "LayoutModel",
          "state": {
            "_model_module": "@jupyter-widgets/base",
            "_model_module_version": "1.2.0",
            "_model_name": "LayoutModel",
            "_view_count": null,
            "_view_module": "@jupyter-widgets/base",
            "_view_module_version": "1.2.0",
            "_view_name": "LayoutView",
            "align_content": null,
            "align_items": null,
            "align_self": null,
            "border": null,
            "bottom": null,
            "display": null,
            "flex": null,
            "flex_flow": null,
            "grid_area": null,
            "grid_auto_columns": null,
            "grid_auto_flow": null,
            "grid_auto_rows": null,
            "grid_column": null,
            "grid_gap": null,
            "grid_row": null,
            "grid_template_areas": null,
            "grid_template_columns": null,
            "grid_template_rows": null,
            "height": null,
            "justify_content": null,
            "justify_items": null,
            "left": null,
            "margin": null,
            "max_height": null,
            "max_width": null,
            "min_height": null,
            "min_width": null,
            "object_fit": null,
            "object_position": null,
            "order": null,
            "overflow": null,
            "overflow_x": null,
            "overflow_y": null,
            "padding": null,
            "right": null,
            "top": null,
            "visibility": null,
            "width": null
          }
        }
      }
    }
  },
  "nbformat": 4,
  "nbformat_minor": 0
}
